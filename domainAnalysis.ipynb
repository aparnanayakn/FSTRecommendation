{
 "cells": [
  {
   "cell_type": "code",
   "execution_count": 1,
   "metadata": {},
   "outputs": [],
   "source": [
    "from imblearn.over_sampling import SMOTE\n",
    "\n",
    "from sklearn.tree import DecisionTreeClassifier\n",
    "from sklearn.neighbors import KNeighborsClassifier\n",
    "\n",
    "from collections import Counter\n",
    "\n",
    "import numpy as np\n",
    "import pandas as pd\n",
    "\n",
    "from sklearn.preprocessing import LabelEncoder\n",
    "\n",
    "from sklearn.model_selection import train_test_split, cross_val_score, KFold\n",
    "from sklearn.metrics import accuracy_score, precision_score, recall_score, f1_score, roc_auc_score, confusion_matrix"
   ]
  },
  {
   "cell_type": "code",
   "execution_count": 2,
   "metadata": {},
   "outputs": [],
   "source": [
    "df = pd.read_csv(\"KnowledgeBasewithDomain.csv\")"
   ]
  },
  {
   "cell_type": "code",
   "execution_count": 3,
   "metadata": {},
   "outputs": [
    {
     "name": "stdout",
     "output_type": "stream",
     "text": [
      "Health and Medicine        59\n",
      "Biology                    32\n",
      "Physics and Chemistry      23\n",
      "Other                      16\n",
      "Business                   16\n",
      "Social Science             12\n",
      "Computer Science           11\n",
      "Games                       3\n",
      "Climate and Environment     1\n",
      "Name: Domain, dtype: int64\n"
     ]
    }
   ],
   "source": [
    "group_counts = df['Domain'].value_counts()\n",
    "print(group_counts)"
   ]
  },
  {
   "cell_type": "code",
   "execution_count": 4,
   "metadata": {},
   "outputs": [],
   "source": [
    "df_raw = df[['Completeness', 'Conciseness', 'cor.mean', 'cov.mean', 'eigenvalues.mean', 'g_mean.mean', 'h_mean.mean', 'iq_range.mean', \n",
    " 'kurtosis.mean', 'mad.mean', 'max.mean', 'mean.mean', 'median.mean', 'min.mean', 'nr_cor_attr', 'nr_norm', 'nr_outliers', 'range.mean', 'sd.mean', 'skewness.mean', 'sparsity.mean',\n",
    " 't_mean.mean', 'var.mean', 'ClassImbRatio', 'ClassOverlapPerc', 'OutlierPerc', 'attr_to_inst', 'inst_to_attr', 'nr_attr', 'nr_bin', 'nr_inst', 'nr_num','attr_conc.mean', \n",
    " 'attr_ent.mean', 'LabelIssuesPerc','nUnique', 'ena', 'snr.mean', 'cEntropy', 'Domain', 'FeatureAlgo']]\n"
   ]
  },
  {
   "cell_type": "code",
   "execution_count": 10,
   "metadata": {},
   "outputs": [
    {
     "name": "stdout",
     "output_type": "stream",
     "text": [
      "Accuracy for domain Health and Medicine: {'Cross-Validation Accuracy': 0.6566666666666666, 'Test Accuracy': 0.6, 'Precision': 0.6723214285714285, 'Recall': 0.6, 'F1 Score': 0.5903846153846153, 'Confusion Matrix': array([[3, 1, 1],\n",
      "       [5, 4, 1],\n",
      "       [0, 0, 5]])}\n",
      "Accuracy for domain Biology: {'Cross-Validation Accuracy': 0.8107142857142857, 'Test Accuracy': 0.9, 'Precision': 0.9142857142857143, 'Recall': 0.9, 'F1 Score': 0.8871794871794872, 'Confusion Matrix': array([[2, 0, 0],\n",
      "       [0, 1, 1],\n",
      "       [0, 0, 6]])}\n"
     ]
    },
    {
     "name": "stderr",
     "output_type": "stream",
     "text": [
      "/home/d19125691/.local/lib/python3.6/site-packages/pandas/core/frame.py:4327: SettingWithCopyWarning: \n",
      "A value is trying to be set on a copy of a slice from a DataFrame\n",
      "\n",
      "See the caveats in the documentation: https://pandas.pydata.org/pandas-docs/stable/user_guide/indexing.html#returning-a-view-versus-a-copy\n",
      "  downcast=downcast,\n"
     ]
    }
   ],
   "source": [
    "def evaluate_decision_tree(domain, df, random_state=2):\n",
    "    df = df.copy()\n",
    "    df.fillna(0, inplace=True)\n",
    "\n",
    "    df = df[df['Domain'] == domain]\n",
    "    df.drop('Domain', axis=1, inplace=True)\n",
    "\n",
    "    df['labels_tuple'] = df.iloc[:, -1].apply(tuple)\n",
    "\n",
    "    tuple_counts = df['labels_tuple'].value_counts()\n",
    "\n",
    "    valid_tuples = tuple_counts[tuple_counts >= 6].index\n",
    "    df_filtered = df[df['labels_tuple'].isin(valid_tuples)].copy()\n",
    "    df_filtered = df_filtered.drop('labels_tuple', axis=1)\n",
    "\n",
    "    df = df_filtered\n",
    "\n",
    "    X = df.iloc[:, :-1]\n",
    "    y = df.iloc[:, -1]\n",
    "    \n",
    "    label_encoder = LabelEncoder()\n",
    "    y_encoded = label_encoder.fit_transform(y)  \n",
    "    \n",
    "    kf = KFold(n_splits=5, shuffle=True, random_state=random_state)\n",
    "    \n",
    "    smote = SMOTE(random_state=33)\n",
    "\n",
    "    X_resampled, y_resampled = smote.fit_resample(X, y)\n",
    "\n",
    "    X_train, X_test, y_train, y_test = train_test_split(X_resampled, y_resampled, test_size=0.2, random_state=random_state)    \n",
    "    tree_classifier = DecisionTreeClassifier(random_state=random_state)\n",
    "    \n",
    "    cross_val_scores = cross_val_score(tree_classifier, X_train, y_train, cv=kf, scoring='accuracy')\n",
    "    error_rates = 1 - cross_val_scores\n",
    "    \n",
    "    tree_classifier.fit(X_train, y_train)\n",
    "    y_pred = tree_classifier.predict(X_test)\n",
    "    \n",
    "    accuracy = accuracy_score(y_test, y_pred)\n",
    "    precision = precision_score(y_test, y_pred, average='weighted', zero_division=0)\n",
    "    recall = recall_score(y_test, y_pred, average='weighted', zero_division=0)\n",
    "    f1 = f1_score(y_test, y_pred, average='weighted', zero_division=0)\n",
    "    \n",
    "    conf_matrix = confusion_matrix(y_test, y_pred)\n",
    "    \n",
    "    return {\n",
    "        'Cross-Validation Accuracy': cross_val_scores.mean(),\n",
    "        'Test Accuracy': accuracy,\n",
    "        'Precision': precision,\n",
    "        'Recall': recall,\n",
    "        'F1 Score': f1,\n",
    "        'Confusion Matrix': conf_matrix\n",
    "    }\n",
    "\n",
    "\n",
    "group_counts = df_raw['Domain'].value_counts()\n",
    "df_raw.fillna(0,inplace=True)\n",
    "\n",
    "top_2_domains = group_counts.nlargest(2).index.tolist()\n",
    "\n",
    "for domain in top_2_domains:\n",
    "    accuracy = evaluate_decision_tree(domain, df_raw)\n",
    "    print(f\"Accuracy for domain {domain}: {accuracy}\")\n"
   ]
  },
  {
   "cell_type": "code",
   "execution_count": null,
   "metadata": {},
   "outputs": [],
   "source": []
  }
 ],
 "metadata": {
  "kernelspec": {
   "display_name": ".deeplearningClass",
   "language": "python",
   "name": ".deeplearningclass"
  },
  "language_info": {
   "codemirror_mode": {
    "name": "ipython",
    "version": 3
   },
   "file_extension": ".py",
   "mimetype": "text/x-python",
   "name": "python",
   "nbconvert_exporter": "python",
   "pygments_lexer": "ipython3",
   "version": "3.6.9"
  },
  "orig_nbformat": 4,
  "vscode": {
   "interpreter": {
    "hash": "68ad885796f6f0b806db95b15cf2a015a244c9adabe8d6cffa3fc143090837a4"
   }
  }
 },
 "nbformat": 4,
 "nbformat_minor": 2
}
