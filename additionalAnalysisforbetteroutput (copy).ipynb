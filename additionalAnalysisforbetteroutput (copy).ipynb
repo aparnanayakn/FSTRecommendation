{
 "cells": [
  {
   "cell_type": "code",
   "execution_count": 1,
   "metadata": {},
   "outputs": [],
   "source": [
    "## this file considers feature selection technique as label\n",
    "\n",
    "import pandas as pd\n",
    "import seaborn as sb\n",
    "import math\n",
    "import numpy as np\n",
    "import os\n",
    "import re\n",
    "import jenkspy\n",
    "from ast import literal_eval\n",
    "\n",
    "import matplotlib.pyplot as plt"
   ]
  },
  {
   "cell_type": "code",
   "execution_count": 2,
   "metadata": {},
   "outputs": [],
   "source": [
    "import pandas as pd \n",
    "import numpy as np \n",
    "from sklearn.preprocessing import LabelEncoder\n",
    "\n",
    "from sklearn import preprocessing\n",
    "from sklearn.svm import LinearSVC\n",
    "from sklearn.neural_network import MLPClassifier\n",
    "from sklearn.linear_model import LogisticRegression\n",
    "from sklearn.tree import DecisionTreeClassifier\n",
    "from sklearn.metrics import f1_score\n",
    "from sklearn.feature_selection import VarianceThreshold\n",
    "from sklearn.model_selection import cross_val_score, ShuffleSplit\n",
    "import matplotlib.pyplot as plt\n",
    "from sklearn.model_selection import GridSearchCV, train_test_split\n",
    "\n",
    "from sklearn import preprocessing\n",
    "\n",
    "import warnings\n",
    "from sklearn.exceptions import ConvergenceWarning\n",
    "warnings.filterwarnings(\"ignore\", category=ConvergenceWarning)\n"
   ]
  },
  {
   "cell_type": "code",
   "execution_count": 3,
   "metadata": {},
   "outputs": [],
   "source": [
    "df1 = pd.read_csv(\"./Datafiles/df_mfeatures.csv\")\n",
    "df2 = pd.read_csv(\"./Datafiles/df_ensemble_allfeatures.csv\")\n",
    "\n",
    "binDF = pd.read_csv(\"./Datafiles/BinnedMetaFeatures.csv\")"
   ]
  },
  {
   "cell_type": "code",
   "execution_count": 4,
   "metadata": {},
   "outputs": [],
   "source": [
    "df_new = df1[['File', 'Completeness', 'Conciseness', 'cor.mean', 'cov.mean',\n",
    "       'eigenvalues.mean', 'g_mean.mean', 'h_mean.mean', 'iq_range.mean', 'kurtosis.mean', \n",
    "       'mad.mean', 'max.mean', 'mean.mean', 'median.mean', 'min.mean', 'nr_cor_attr',\n",
    "       'nr_norm', 'nr_outliers', 'range.mean', 'sd.mean', 'skewness.mean',\n",
    "       'sparsity.mean', 't_mean.mean',   'var.mean', 'ClassImbRatio',\n",
    "       'ClassOverlapPerc', 'OutlierPerc', 'attr_to_inst', 'inst_to_attr', 'nr_attr',\n",
    "        'nr_bin',  'nr_inst', 'nr_num', 'attr_conc.mean', 'attr_ent.mean', 'ena', 'nUnique' ,'snr.mean', 'cEntropy','LabelIssuesPerc']] #SyntaxAccuracy removed\n",
    "\n",
    "df_imp_subset = df1[['File', 'cov.mean',\n",
    "       'eigenvalues.mean', 'iq_range.mean',\n",
    "        'kurtosis.mean', 'inst_to_attr',\n",
    "        'skewness.mean', 'mean.mean',\n",
    "       'sparsity.mean','nr_inst', 'nr_num',\n",
    "        'attr_conc.mean', 'attr_ent.mean', \n",
    "        'ena', 'snr.mean', 'cEntropy','LabelIssuesPerc']] #SyntaxAccuracy removed\n",
    "\n",
    "df_bin_new = binDF[['Completeness_bins', 'Conciseness_bins',  'cor.mean_bins', 'cov.mean_bins', \n",
    "              'eigenvalues.mean_bins', 'g_mean.mean_bins', 'h_mean.mean_bins', 'iq_range.mean_bins', 'kurtosis.mean_bins',\n",
    "              'mad.mean_bins', 'max.mean_bins',  'mean.mean_bins', 'median.mean_bins',  'min.mean_bins', 'nr_cor_attr_bins', \n",
    "              'nr_norm_bins', 'nr_outliers_bins', 'range.mean_bins', 'sd.mean_bins', 'skewness.mean_bins',\n",
    "              'sparsity.mean_bins', 't_mean.mean_bins', 'var.mean_bins', 'LabelIssues_bins', 'ClassImbRatio_bins', \n",
    "              'OutlierPerc_bins', 'ClassOverlapPerc_bins', 'attr_to_inst_bins', 'inst_to_attr_bins', 'nr_attr_bins',\n",
    "              'nr_inst_bins', 'nr_num_bins', 'nr_bin_bins', 'attr_conc.mean_bins', 'cEntropy_bins', 'ena_bins', 'snr.mean_bins', 'nUnique_bins','attr_ent.mean_bins', 'File']] #'SyntaxAccuracy_bins' removed"
   ]
  },
  {
   "cell_type": "code",
   "execution_count": 5,
   "metadata": {},
   "outputs": [
    {
     "data": {
      "text/plain": [
       "(173, 17)"
      ]
     },
     "execution_count": 5,
     "metadata": {},
     "output_type": "execute_result"
    }
   ],
   "source": [
    "(df_imp_subset).shape"
   ]
  },
  {
   "cell_type": "markdown",
   "metadata": {},
   "source": [
    "Majority voting calculation"
   ]
  },
  {
   "cell_type": "code",
   "execution_count": 6,
   "metadata": {},
   "outputs": [
    {
     "name": "stdout",
     "output_type": "stream",
     "text": [
      " Majority vote labels saved to 'majority_voted_labels.csv'\n"
     ]
    }
   ],
   "source": [
    "import pandas as pd\n",
    "import os\n",
    "from collections import Counter\n",
    "from glob import glob\n",
    "\n",
    "path = os.getcwd()+'/optimalalphabeta/dearr_cont/'  \n",
    "csv_files = glob(os.path.join(path, 'dearr*.csv'))\n",
    "\n",
    "labels_dict = {}\n",
    "\n",
    "for file in csv_files:\n",
    "    df = pd.read_csv(file)\n",
    "    \n",
    "    for idx, row in df.iterrows():\n",
    "        dataset_id = row['File']  \n",
    "        best_fs = row['FeatureAlgo']     \n",
    "        \n",
    "        if dataset_id not in labels_dict:\n",
    "            labels_dict[dataset_id] = []\n",
    "        labels_dict[dataset_id].append(best_fs)\n",
    "\n",
    "majority_labels = {\n",
    "    dataset: Counter(fs_list).most_common(1)[0][0]\n",
    "    for dataset, fs_list in labels_dict.items()\n",
    "}\n",
    "\n",
    "majority_df = pd.DataFrame(list(majority_labels.items()), columns=['File', 'FeatureAlgo'])\n",
    "majority_df.to_csv('majority_voted_labels.csv', index=False)\n",
    "\n",
    "print(\" Majority vote labels saved to 'majority_voted_labels.csv'\")"
   ]
  },
  {
   "cell_type": "markdown",
   "metadata": {},
   "source": [
    "Majority voting based on cluster"
   ]
  },
  {
   "cell_type": "code",
   "execution_count": 7,
   "metadata": {},
   "outputs": [],
   "source": [
    "import pandas as pd\n",
    "import os\n",
    "from collections import Counter\n",
    "from glob import glob\n",
    "\n",
    "path = os.getcwd()+'/optimalalphabeta/clusteredearr/'  # replace with the path to your 36 CSVs\n",
    "csv_files = glob(os.path.join(path, 'dearr*.csv'))\n",
    "\n",
    "labels_dict = {}\n",
    "\n",
    "for file in csv_files:\n",
    "    df = pd.read_csv(file)\n",
    "    \n",
    "    for idx, row in df.iterrows():\n",
    "        dataset_id = row['File']  # replace 'Dataset' with your actual column name\n",
    "        best_fs = row['FeatureAlgo']     # replace 'Best_FS' with your actual column name\n",
    "        \n",
    "        if dataset_id not in labels_dict:\n",
    "            labels_dict[dataset_id] = []\n",
    "        labels_dict[dataset_id].append(best_fs)\n",
    "\n",
    "majority_labels = {\n",
    "    dataset: Counter(fs_list).most_common(1)[0][0]\n",
    "    for dataset, fs_list in labels_dict.items()\n",
    "}\n",
    "\n",
    "majority_df = pd.DataFrame(list(majority_labels.items()), columns=['File', 'FeatureAlgo'])\n",
    "majority_df.to_csv('majority_voted_labels_clusteredearr.csv', index=False)"
   ]
  },
  {
   "cell_type": "code",
   "execution_count": 8,
   "metadata": {},
   "outputs": [],
   "source": [
    "#Merging two dataframes to add target feature\n",
    "df1 = pd.read_csv('majority_voted_labels_clusteredearr.csv')\n",
    "\n",
    "df2 = pd.read_csv('./Datafiles/meta-features-cont.csv')\n",
    "merged_df = pd.merge(df1, df2, on='File', how='inner')  # use 'left', 'right', or 'outer' as needed\n",
    "\n",
    "merged_df.to_csv(\"majorityvoteclusteredearrdataset.csv\",index=False)"
   ]
  },
  {
   "cell_type": "code",
   "execution_count": 9,
   "metadata": {},
   "outputs": [],
   "source": [
    "fs_mapping = {\n",
    "    'MI': ('Uni', 'Information'),\n",
    "    'GR': ('Uni', 'Information'),\n",
    "    'fcbf': ('Multi', 'Information'),\n",
    "    'chisquare': ('Uni', 'Dependency'),\n",
    "    'mRMR': ('Multi', 'Dependency'),\n",
    "    'cfs': ('Multi', 'Dependency'),\n",
    "    'relief': ('Uni', 'Distance'),\n",
    "    'relieff': ('Uni', 'Distance'),\n",
    "    'multisurf': ('Multi', 'Distance')\n",
    "}\n",
    "\n",
    "def get_setting(algo):\n",
    "    return fs_mapping.get(algo, ('Unknown', 'Unknown'))  # default if not found\n",
    "\n",
    "\n",
    "merged_df[['FS_Setting', 'FS_Type']] = merged_df['FeatureAlgo'].apply(lambda x: pd.Series(get_setting(x)))"
   ]
  },
  {
   "cell_type": "markdown",
   "metadata": {},
   "source": [
    "Applying feature selection "
   ]
  },
  {
   "cell_type": "code",
   "execution_count": 28,
   "metadata": {},
   "outputs": [],
   "source": [
    "import pandas as pd\n",
    "import numpy as np\n",
    "\n",
    "def correlation_filter(df, threshold=0.9):\n",
    "    corr_matrix = df.corr().abs()\n",
    "    upper = corr_matrix.where(np.triu(np.ones(corr_matrix.shape), k=1).astype(bool))\n",
    "    to_drop = [column for column in upper.columns if any(upper[column] > threshold)]\n",
    "    return df.drop(columns=to_drop)\n",
    "df1 = pd.read_csv('majority_voted_labels_clusteredearr.csv')\n",
    "\n",
    "df2 = pd.read_csv('./Datafiles/meta-features-cont.csv')\n",
    "# Separate the 'File' column\n",
    "file_col = df2['File']\n",
    "\n",
    "# Apply correlation filter to the rest of the columns\n",
    "X_filtered = correlation_filter(df2.drop(columns=['File']))\n",
    "\n",
    "X_filtered['File'] = file_col\n",
    "\n",
    "X_filtered = pd.merge(X_filtered, df1 , on='File', how='inner') "
   ]
  },
  {
   "cell_type": "code",
   "execution_count": 29,
   "metadata": {},
   "outputs": [
    {
     "data": {
      "text/plain": [
       "Index(['Completeness', 'Conciseness', 'cor.mean', 'cov.mean',\n",
       "       'eigenvalues.mean', 'kurtosis.mean', 'max.mean', 'nr_norm',\n",
       "       'nr_outliers', 'sparsity.mean', 'ClassImbRatio', 'ClassOverlapPerc',\n",
       "       'OutlierPerc', 'attr_to_inst', 'inst_to_attr', 'nr_bin', 'nr_inst',\n",
       "       'attr_conc.mean', 'attr_ent.mean', 'ena', 'nUnique', 'snr.mean',\n",
       "       'cEntropy', 'LabelIssuesPerc', 'File', 'FeatureAlgo'],\n",
       "      dtype='object')"
      ]
     },
     "execution_count": 29,
     "metadata": {},
     "output_type": "execute_result"
    }
   ],
   "source": [
    "X_filtered.columns"
   ]
  },
  {
   "cell_type": "markdown",
   "metadata": {},
   "source": [
    "Feature selection method 2"
   ]
  },
  {
   "cell_type": "code",
   "execution_count": 11,
   "metadata": {},
   "outputs": [
    {
     "name": "stdout",
     "output_type": "stream",
     "text": [
      "Selected Features based on model importance:\n",
      "['kurtosis.mean', 'sparsity.mean', 'OutlierPerc', 'attr_to_inst', 'inst_to_attr', 'nr_attr', 'nr_inst', 'nr_num', 'attr_ent.mean', 'ena', 'snr.mean', 'cEntropy', 'LabelIssuesPerc']\n"
     ]
    }
   ],
   "source": [
    "from sklearn.feature_selection import SelectFromModel\n",
    "from sklearn.ensemble import RandomForestClassifier\n",
    "from sklearn.preprocessing import LabelEncoder\n",
    "\n",
    "le = LabelEncoder()\n",
    "\n",
    "X = merged_df.drop(['File', 'FeatureAlgo','FS_Setting','FS_Type'], axis=1)\n",
    "X = X.apply(le.fit_transform)\n",
    "y=merged_df['FeatureAlgo']\n",
    "clf = RandomForestClassifier(random_state=42)\n",
    "clf.fit(X, y)\n",
    "\n",
    "# Select features with importance greater than the mean importance\n",
    "selector = SelectFromModel(clf, threshold='mean', prefit=True)\n",
    "X_selected = selector.transform(X)\n",
    "\n",
    "# Get feature names\n",
    "selected_features = X.columns[selector.get_support()]\n",
    "print(\"Selected Features based on model importance:\")\n",
    "print(selected_features.tolist())\n"
   ]
  },
  {
   "cell_type": "code",
   "execution_count": 12,
   "metadata": {},
   "outputs": [
    {
     "data": {
      "text/plain": [
       "11"
      ]
     },
     "execution_count": 12,
     "metadata": {},
     "output_type": "execute_result"
    }
   ],
   "source": [
    "all_features = list(set(selected_features.tolist()).union(set(X_filtered.columns)))\n",
    "common_features = list(set(selected_features.tolist()).intersection(set(X_filtered.columns)))\n",
    "len(common_features)"
   ]
  },
  {
   "cell_type": "code",
   "execution_count": 13,
   "metadata": {},
   "outputs": [],
   "source": [
    "imp_features = set(df_imp_subset.columns) - set(['File'])\n",
    "common_features = list(set(selected_features.tolist()).intersection(set(X_filtered.columns)).intersection(set(df_imp_subset.columns)))\n",
    "all_features = list(set(selected_features.tolist()).union(set(X_filtered.columns)).union(set(imp_features)))\n",
    "all_features = list(set(all_features)-set(['FeatureAlgo','File']))"
   ]
  },
  {
   "cell_type": "code",
   "execution_count": 14,
   "metadata": {},
   "outputs": [
    {
     "data": {
      "text/plain": [
       "9"
      ]
     },
     "execution_count": 14,
     "metadata": {},
     "output_type": "execute_result"
    }
   ],
   "source": [
    "len(common_features)"
   ]
  },
  {
   "cell_type": "code",
   "execution_count": 15,
   "metadata": {},
   "outputs": [],
   "source": [
    "from sklearn.tree import DecisionTreeClassifier, _tree\n",
    "import numpy as np\n",
    "import pandas as pd\n",
    "\n",
    "def get_rules_with_support_confidence(tree_model, feature_names, X, y):\n",
    "    tree_ = tree_model.tree_\n",
    "    feature_name = [\n",
    "        feature_names[i] if i != _tree.TREE_UNDEFINED else \"undefined!\"\n",
    "        for i in tree_.feature\n",
    "    ]\n",
    "    \n",
    "    paths = []\n",
    "    rules = []\n",
    "\n",
    "    def recurse(node, path, conds):\n",
    "        if tree_.feature[node] != _tree.TREE_UNDEFINED:\n",
    "            name = feature_name[node]\n",
    "            threshold = tree_.threshold[node]\n",
    "            left_path = path.copy()\n",
    "            left_path.append(f\"({name} <= {threshold:.3f})\")\n",
    "            recurse(tree_.children_left[node], left_path, conds)\n",
    "\n",
    "            right_path = path.copy()\n",
    "            right_path.append(f\"({name} > {threshold:.3f})\")\n",
    "            recurse(tree_.children_right[node], right_path, conds)\n",
    "        else:\n",
    "            path_str = \" and \".join(path)\n",
    "            support = tree_.n_node_samples[node] / tree_.n_node_samples[0]\n",
    "            value = tree_.value[node][0]\n",
    "            predicted_class = np.argmax(value)\n",
    "            confidence = value[predicted_class] / np.sum(value)\n",
    "            rules.append((path_str, predicted_class, support, confidence))\n",
    "\n",
    "    recurse(0, [], rules)\n",
    "\n",
    "    return pd.DataFrame(rules, columns=[\"Rule\", \"Predicted_Class\", \"Support\", \"Confidence\"])"
   ]
  },
  {
   "cell_type": "code",
   "execution_count": 30,
   "metadata": {},
   "outputs": [
    {
     "name": "stdout",
     "output_type": "stream",
     "text": [
      "                                                 Rule  Predicted_Class  \\\n",
      "0        (nr_inst <= 51.500) and (cEntropy <= 27.000)                2   \n",
      "6   (nr_inst > 51.500) and (snr.mean <= 121.500) a...                1   \n",
      "8   (nr_inst > 51.500) and (snr.mean <= 121.500) a...                2   \n",
      "9   (nr_inst > 51.500) and (snr.mean > 121.500) an...                3   \n",
      "11  (nr_inst > 51.500) and (snr.mean > 121.500) an...                2   \n",
      "5   (nr_inst > 51.500) and (snr.mean <= 121.500) a...                2   \n",
      "2   (nr_inst <= 51.500) and (cEntropy > 27.000) an...                0   \n",
      "3   (nr_inst <= 51.500) and (cEntropy > 27.000) an...                2   \n",
      "10  (nr_inst > 51.500) and (snr.mean > 121.500) an...                0   \n",
      "1   (nr_inst <= 51.500) and (cEntropy > 27.000) an...                0   \n",
      "\n",
      "     Support  Confidence  \n",
      "0   0.036232    1.000000  \n",
      "6   0.007246    1.000000  \n",
      "8   0.021739    1.000000  \n",
      "9   0.036232    1.000000  \n",
      "11  0.014493    1.000000  \n",
      "5   0.391304    0.888889  \n",
      "2   0.217391    0.866667  \n",
      "3   0.072464    0.700000  \n",
      "10  0.043478    0.666667  \n",
      "1   0.101449    0.428571  \n",
      "Feature_Algo Report (all features):\n",
      "              precision    recall  f1-score   support\n",
      "\n",
      "           0       0.50      0.64      0.56        11\n",
      "           1       0.00      0.00      0.00         2\n",
      "           2       0.58      0.69      0.63        16\n",
      "           3       0.00      0.00      0.00         4\n",
      "           4       0.00      0.00      0.00         2\n",
      "\n",
      "    accuracy                           0.51        35\n",
      "   macro avg       0.22      0.26      0.24        35\n",
      "weighted avg       0.42      0.51      0.46        35\n",
      "\n"
     ]
    },
    {
     "name": "stderr",
     "output_type": "stream",
     "text": [
      "/home/d19125691/.local/lib/python3.6/site-packages/sklearn/metrics/_classification.py:1248: UndefinedMetricWarning: Precision and F-score are ill-defined and being set to 0.0 in labels with no predicted samples. Use `zero_division` parameter to control this behavior.\n",
      "  _warn_prf(average, modifier, msg_start, len(result))\n",
      "/home/d19125691/.local/lib/python3.6/site-packages/sklearn/metrics/_classification.py:1248: UndefinedMetricWarning: Precision and F-score are ill-defined and being set to 0.0 in labels with no predicted samples. Use `zero_division` parameter to control this behavior.\n",
      "  _warn_prf(average, modifier, msg_start, len(result))\n",
      "/home/d19125691/.local/lib/python3.6/site-packages/sklearn/metrics/_classification.py:1248: UndefinedMetricWarning: Precision and F-score are ill-defined and being set to 0.0 in labels with no predicted samples. Use `zero_division` parameter to control this behavior.\n",
      "  _warn_prf(average, modifier, msg_start, len(result))\n"
     ]
    }
   ],
   "source": [
    "#Without clustering - all-features\n",
    "\n",
    "df1 = pd.read_csv('majority_voted_labels_clusteredearr.csv')\n",
    "\n",
    "df2 = pd.read_csv('./Datafiles/meta-features-cont.csv')\n",
    "\n",
    "#merged_df = pd.merge(df1, df2, on='File', how='inner')  # use 'left', 'right', or 'outer' as needed\n",
    "\n",
    "le = LabelEncoder()\n",
    "#X = merged_df.drop(['File','FS_Setting','FS_Type','FeatureAlgo'], axis=1)\n",
    "X = merged_df[common_features]\n",
    "df_new\n",
    "X = X.apply(le.fit_transform)\n",
    "\n",
    "y = merged_df['FeatureAlgo'] # Encode both\n",
    "label_encoder = LabelEncoder().fit(y)\n",
    "y = label_encoder.transform(y)\n",
    "list(label_encoder.classes_)\n",
    "\n",
    "\n",
    "X_train, X_test, y_train, y_test = train_test_split(X, y, random_state=42, train_size=0.8)\n",
    "\n",
    "# Train a simple tree (can be one of your hierarchical models)\n",
    "clf = DecisionTreeClassifier(max_depth=4, random_state=0)\n",
    "clf.fit(X_train, y_train)  # y_train can be FS_Type or FS_Setting\n",
    "\n",
    "# Get readable rules with metrics\n",
    "rule_df = get_rules_with_support_confidence(clf, feature_names=X_train.columns.tolist(), X=X_train, y=y_train)\n",
    "\n",
    "# Display top rules\n",
    "print(rule_df.sort_values(by='Confidence', ascending=False).head(10))\n",
    "\n",
    "# Evaluate\n",
    "from sklearn.metrics import classification_report\n",
    "\n",
    "y_type_pred = clf.predict(X_test)\n",
    "\n",
    "print(\"Feature_Algo Report (all features):\")\n",
    "print(classification_report(y_test, y_type_pred))\n"
   ]
  },
  {
   "cell_type": "code",
   "execution_count": 17,
   "metadata": {},
   "outputs": [
    {
     "name": "stdout",
     "output_type": "stream",
     "text": [
      "{0: 'GR', 1: 'MI', 2: 'chisquare', 3: 'fcbf', 4: 'relief'}\n"
     ]
    }
   ],
   "source": [
    "int_to_label = {i: label for i, label in enumerate(label_encoder.classes_)}\n",
    "print(int_to_label)"
   ]
  },
  {
   "cell_type": "code",
   "execution_count": 25,
   "metadata": {},
   "outputs": [
    {
     "name": "stdout",
     "output_type": "stream",
     "text": [
      "                                                 Rule  Predicted_Class  \\\n",
      "0        (nr_inst <= 51.500) and (cEntropy <= 27.000)                2   \n",
      "6   (nr_inst > 51.500) and (snr.mean <= 121.500) a...                1   \n",
      "8   (nr_inst > 51.500) and (snr.mean <= 121.500) a...                2   \n",
      "9   (nr_inst > 51.500) and (snr.mean > 121.500) an...                3   \n",
      "11  (nr_inst > 51.500) and (snr.mean > 121.500) an...                2   \n",
      "5   (nr_inst > 51.500) and (snr.mean <= 121.500) a...                2   \n",
      "2   (nr_inst <= 51.500) and (cEntropy > 27.000) an...                0   \n",
      "3   (nr_inst <= 51.500) and (cEntropy > 27.000) an...                2   \n",
      "10  (nr_inst > 51.500) and (snr.mean > 121.500) an...                0   \n",
      "1   (nr_inst <= 51.500) and (cEntropy > 27.000) an...                0   \n",
      "\n",
      "     Support  Confidence  \n",
      "0   0.036232    1.000000  \n",
      "6   0.007246    1.000000  \n",
      "8   0.021739    1.000000  \n",
      "9   0.036232    1.000000  \n",
      "11  0.014493    1.000000  \n",
      "5   0.391304    0.888889  \n",
      "2   0.217391    0.866667  \n",
      "3   0.072464    0.700000  \n",
      "10  0.043478    0.666667  \n",
      "1   0.101449    0.428571  \n"
     ]
    }
   ],
   "source": [
    "#With clustering\n",
    "le = LabelEncoder()\n",
    "#X = merged_df.drop(['File','FS_Setting','FS_Type','FeatureAlgo'], axis=1)\n",
    "X = merged_df[common_features]\n",
    "X = X.apply(le.fit_transform)\n",
    "\n",
    "y = merged_df['FeatureAlgo'] # Encode both\n",
    "\n",
    "X_train, X_test, y_train, y_test = train_test_split(X, y, random_state=42, train_size=0.8)\n",
    "\n",
    "# Train a simple tree (can be one of your hierarchical models)\n",
    "clf = DecisionTreeClassifier(max_depth=4, random_state=0)\n",
    "clf.fit(X_train, y_train)  # y_train can be FS_Type or FS_Setting\n",
    "\n",
    "# Get readable rules with metrics\n",
    "rule_df = get_rules_with_support_confidence(clf, feature_names=X_train.columns.tolist(), X=X_train, y=y_train)\n",
    "\n",
    "# Display top rules\n",
    "print(rule_df.sort_values(by='Confidence', ascending=False).head(10))\n"
   ]
  },
  {
   "cell_type": "code",
   "execution_count": 19,
   "metadata": {},
   "outputs": [
    {
     "data": {
      "text/plain": [
       "(12, 4)"
      ]
     },
     "execution_count": 19,
     "metadata": {},
     "output_type": "execute_result"
    }
   ],
   "source": [
    "rule_df.shape"
   ]
  },
  {
   "cell_type": "code",
   "execution_count": 27,
   "metadata": {},
   "outputs": [
    {
     "name": "stdout",
     "output_type": "stream",
     "text": [
      "                                                 Rule  Predicted_Class  \\\n",
      "0        (nr_inst <= 51.500) and (cEntropy <= 27.000)                2   \n",
      "6   (nr_inst > 51.500) and (snr.mean <= 121.500) a...                1   \n",
      "8   (nr_inst > 51.500) and (snr.mean <= 121.500) a...                2   \n",
      "9   (nr_inst > 51.500) and (snr.mean > 121.500) an...                3   \n",
      "11  (nr_inst > 51.500) and (snr.mean > 121.500) an...                2   \n",
      "5   (nr_inst > 51.500) and (snr.mean <= 121.500) a...                2   \n",
      "2   (nr_inst <= 51.500) and (cEntropy > 27.000) an...                0   \n",
      "3   (nr_inst <= 51.500) and (cEntropy > 27.000) an...                2   \n",
      "10  (nr_inst > 51.500) and (snr.mean > 121.500) an...                0   \n",
      "1   (nr_inst <= 51.500) and (cEntropy > 27.000) an...                0   \n",
      "\n",
      "     Support  Confidence  \n",
      "0   0.036232    1.000000  \n",
      "6   0.007246    1.000000  \n",
      "8   0.021739    1.000000  \n",
      "9   0.036232    1.000000  \n",
      "11  0.014493    1.000000  \n",
      "5   0.391304    0.888889  \n",
      "2   0.217391    0.866667  \n",
      "3   0.072464    0.700000  \n",
      "10  0.043478    0.666667  \n",
      "1   0.101449    0.428571  \n"
     ]
    }
   ],
   "source": [
    "#Without clustering\n",
    "le = LabelEncoder()\n",
    "#X = merged_df.drop(['File','FS_Setting','FS_Type','FeatureAlgo'], axis=1)\n",
    "X = merged_df[common_features]\n",
    "X = X.apply(le.fit_transform)\n",
    "\n",
    "y = merged_df['FeatureAlgo']\n",
    "\n",
    "X_train, X_test, y_train, y_test = train_test_split(X, y, random_state=42, train_size=0.8)\n",
    "\n",
    "# Train a simple tree (can be one of your hierarchical models)\n",
    "clf = DecisionTreeClassifier(max_depth=4, random_state=0)\n",
    "clf.fit(X_train, y_train)  # y_train can be FS_Type or FS_Setting\n",
    "\n",
    "# Get readable rules with metrics\n",
    "rule_df = get_rules_with_support_confidence(clf, feature_names=X_train.columns.tolist(), X=X_train, y=y_train)\n",
    "\n",
    "# Display top rules\n",
    "print(rule_df.sort_values(by='Confidence', ascending=False).head(10))\n"
   ]
  },
  {
   "cell_type": "code",
   "execution_count": 21,
   "metadata": {},
   "outputs": [
    {
     "ename": "NameError",
     "evalue": "name 'RandomOverSampler' is not defined",
     "output_type": "error",
     "traceback": [
      "\u001b[0;31m---------------------------------------------------------------------------\u001b[0m",
      "\u001b[0;31mNameError\u001b[0m                                 Traceback (most recent call last)",
      "\u001b[0;32m<ipython-input-21-fbd659be8b91>\u001b[0m in \u001b[0;36m<module>\u001b[0;34m\u001b[0m\n\u001b[1;32m      1\u001b[0m \u001b[0;31m# You can chain oversamplers in a pipeline\u001b[0m\u001b[0;34m\u001b[0m\u001b[0;34m\u001b[0m\u001b[0;34m\u001b[0m\u001b[0m\n\u001b[0;32m----> 2\u001b[0;31m \u001b[0mover_sampler1\u001b[0m \u001b[0;34m=\u001b[0m \u001b[0mRandomOverSampler\u001b[0m\u001b[0;34m(\u001b[0m\u001b[0mrandom_state\u001b[0m\u001b[0;34m=\u001b[0m\u001b[0;36m42\u001b[0m\u001b[0;34m)\u001b[0m\u001b[0;34m\u001b[0m\u001b[0;34m\u001b[0m\u001b[0m\n\u001b[0m\u001b[1;32m      3\u001b[0m \u001b[0msmote1\u001b[0m \u001b[0;34m=\u001b[0m \u001b[0mSMOTE\u001b[0m\u001b[0;34m(\u001b[0m\u001b[0msampling_strategy\u001b[0m\u001b[0;34m=\u001b[0m\u001b[0;34m'not majority'\u001b[0m\u001b[0;34m,\u001b[0m \u001b[0mrandom_state\u001b[0m\u001b[0;34m=\u001b[0m\u001b[0;36m42\u001b[0m\u001b[0;34m)\u001b[0m\u001b[0;34m\u001b[0m\u001b[0;34m\u001b[0m\u001b[0m\n\u001b[1;32m      4\u001b[0m \u001b[0;34m\u001b[0m\u001b[0m\n\u001b[1;32m      5\u001b[0m \u001b[0;31m# Step 1: Random oversample small classes\u001b[0m\u001b[0;34m\u001b[0m\u001b[0;34m\u001b[0m\u001b[0;34m\u001b[0m\u001b[0m\n",
      "\u001b[0;31mNameError\u001b[0m: name 'RandomOverSampler' is not defined"
     ]
    }
   ],
   "source": [
    "\n",
    "# You can chain oversamplers in a pipeline\n",
    "over_sampler1 = RandomOverSampler(random_state=42)\n",
    "smote1 = SMOTE(sampling_strategy='not majority', random_state=42)\n",
    "\n",
    "# Step 1: Random oversample small classes\n",
    "X_ros, y_ros = over_sampler1.fit_resample(X_train, y_train)\n",
    "\n",
    "# Step 2: Apply SMOTE to remaining minority classes\n",
    "X_balanced, y_balanced = smote1.fit_resample(X_ros, y_ros)\n",
    "\n",
    "clf5 = clf = DecisionTreeClassifier(max_depth=4, random_state=0)\n",
    "#(class_weight='balanced', random_state=42)\n",
    "clf5.fit(X_balanced, y_balanced)\n",
    "\n",
    "y_type_pred = clf5.predict(X_test)\n",
    "\n",
    "print(\"Feature_Algo Report (common features):\")\n",
    "print(classification_report(y_test, y_type_pred))"
   ]
  },
  {
   "cell_type": "code",
   "execution_count": null,
   "metadata": {},
   "outputs": [],
   "source": [
    "#Without clustering\n",
    "clf.fit(X_train, y_train)  # y_train can be FS_Type or FS_Setting\n",
    "\n",
    "# Evaluate\n",
    "from sklearn.metrics import classification_report\n",
    "\n",
    "y_type_pred = clf.predict(X_test)\n",
    "\n",
    "print(\"Feature_Algo Report (all features):\")\n",
    "print(classification_report(y_test, y_type_pred))"
   ]
  },
  {
   "cell_type": "code",
   "execution_count": null,
   "metadata": {},
   "outputs": [],
   "source": [
    "#Without clustering\n",
    "clf.fit(X_train, y_train)  # y_train can be FS_Type or FS_Setting\n",
    "\n",
    "# Evaluate\n",
    "from sklearn.metrics import classification_report\n",
    "\n",
    "y_type_pred = clf.predict(X_test)\n",
    "\n",
    "print(\"Feature_Algo Report (common features):\")\n",
    "print(classification_report(y_test, y_type_pred))"
   ]
  },
  {
   "cell_type": "code",
   "execution_count": null,
   "metadata": {},
   "outputs": [],
   "source": [
    "rule_df.to_csv(\"rules.csv\",index=False)"
   ]
  },
  {
   "cell_type": "code",
   "execution_count": null,
   "metadata": {},
   "outputs": [],
   "source": []
  },
  {
   "cell_type": "code",
   "execution_count": null,
   "metadata": {},
   "outputs": [],
   "source": []
  },
  {
   "cell_type": "code",
   "execution_count": null,
   "metadata": {},
   "outputs": [],
   "source": []
  },
  {
   "cell_type": "code",
   "execution_count": null,
   "metadata": {},
   "outputs": [],
   "source": []
  },
  {
   "cell_type": "code",
   "execution_count": null,
   "metadata": {},
   "outputs": [],
   "source": [
    "from sklearn.feature_selection import SelectFromModel\n",
    "from sklearn.ensemble import RandomForestClassifier\n",
    "from sklearn.preprocessing import LabelEncoder\n",
    "\n",
    "le = LabelEncoder()\n",
    "\n",
    "X = merged_df.drop(['File', 'FeatureAlgo'], axis=1)\n",
    "X = X.apply(le.fit_transform)\n",
    "y=merged_df['FeatureAlgo']\n",
    "clf = RandomForestClassifier(random_state=42)\n",
    "clf.fit(X, y)\n",
    "\n",
    "# Select features with importance greater than the mean importance\n",
    "selector = SelectFromModel(clf, threshold='mean', prefit=True)\n",
    "X_selected = selector.transform(X)\n",
    "\n",
    "# Get feature names\n",
    "selected_features = X.columns[selector.get_support()]\n",
    "print(\"Selected Features based on model importance:\")\n",
    "print(selected_features.tolist())\n"
   ]
  },
  {
   "cell_type": "code",
   "execution_count": null,
   "metadata": {},
   "outputs": [],
   "source": [
    "all_features = list(set(selected_features.tolist()).union(set(X_filtered.columns)))\n",
    "common_features = list(set(selected_features.tolist()).intersection(set(X_filtered.columns)))"
   ]
  },
  {
   "cell_type": "code",
   "execution_count": null,
   "metadata": {},
   "outputs": [],
   "source": [
    "def calcu_scores(df):\n",
    "    scores = []\n",
    "    #labels = df['FS_Setting_encoded']\n",
    "    labels = df['FS_Type_encoded']\n",
    "    #labels = df['FeatureAlgo']\n",
    "    features = df.drop(['FeatureAlgo', 'File'], axis=1)\n",
    "\n",
    "    le = LabelEncoder()\n",
    "    features = features.apply(le.fit_transform)\n",
    "    X_train, X_test, y_train, y_test = train_test_split(features, labels, random_state=42, train_size=0.8)\n",
    "\n",
    "    param_grid_mlp = {\n",
    "        'hidden_layer_sizes': [(50,50,50), (50,100,50), (100,)],\n",
    "        'solver': ['sgd', 'adam'],\n",
    "        'alpha': [0.0001, 0.05],\n",
    "        'max_iter': [100, 200, 500]\n",
    "    }\n",
    "\n",
    "    param_grid_lr = {\n",
    "        'penalty': ['l1', 'l2'],\n",
    "        'C': [0.01, 0.1, 1, 10, 100],\n",
    "        'solver': ['saga']\n",
    "    }\n",
    "\n",
    "    param_grid_svc = {\n",
    "        'C': [0.01, 0.1, 1, 10, 100],\n",
    "        'max_iter': [1000, 2000, 3000]\n",
    "    }\n",
    "\n",
    "    param_grid_dt = {'max_features': ['auto', 'sqrt', 'log2'],\n",
    "              'ccp_alpha': [0.1, .01, .001],\n",
    "              'max_depth' : [5, 7, 9],\n",
    "              'criterion' :['gini', 'entropy']\n",
    "             }\n",
    "\n",
    "    mlp_clf = GridSearchCV(MLPClassifier(random_state=1), param_grid_mlp, cv=5)\n",
    "    lr_clf = GridSearchCV(LogisticRegression(random_state=0, max_iter=1000), param_grid_lr, cv=5)\n",
    "    dt_clf = GridSearchCV(DecisionTreeClassifier(), param_grid_dt, cv=5)\n",
    "    svc_clf = GridSearchCV(LinearSVC(random_state=0), param_grid_svc, cv=5)\n",
    "\n",
    "    mlp_clf.fit(X_train, y_train)\n",
    "    lr_clf.fit(X_train, y_train)\n",
    "    dt_clf.fit(X_train, y_train)\n",
    "    svc_clf.fit(X_train, y_train)\n",
    "\n",
    "    # Predictions\n",
    "    mlp_predicted = mlp_clf.predict(X_test)\n",
    "    lr_predicted = lr_clf.predict(X_test)\n",
    "    dt_predicted = dt_clf.predict(X_test)\n",
    "    svc_predicted = svc_clf.predict(X_test)\n",
    "\n",
    "    # Append F1 scores\n",
    "    for clf_name, predicted in zip(\n",
    "        ['MLP', 'LR', 'RF', 'SVC'],\n",
    "        [mlp_predicted, lr_predicted, dt_predicted, svc_predicted]\n",
    "    ):\n",
    "        scores.append(f1_score(predicted, y_test, average='macro'))\n",
    "        scores.append(f1_score(predicted, y_test, average='micro'))\n",
    "        scores.append(f1_score(predicted, y_test, average='weighted'))\n",
    "\n",
    "    return scores"
   ]
  },
  {
   "cell_type": "code",
   "execution_count": null,
   "metadata": {},
   "outputs": [],
   "source": [
    "from sklearn.multioutput import MultiOutputClassifier\n",
    "from sklearn.ensemble import RandomForestClassifier\n",
    "from sklearn.model_selection import train_test_split\n",
    "\n",
    "# Prepare X and multiple y targets\n",
    "X = merged_df.drop(['File','FeatureAlgo'], axis=1)\n",
    "X = X.apply(le.fit_transform)\n",
    "\n",
    "y = merged_df['FeatureAlgo'] # Encode both\n",
    "\n",
    "X_train, X_test, y_train, y_test = train_test_split(X, y, random_state=42, train_size=0.8)\n",
    "\n",
    "# Base model\n",
    "base_clf3 = RandomForestClassifier()\n",
    "\n",
    "# Train a simple tree (can be one of your hierarchical models)\n",
    "clf = DecisionTreeClassifier(max_depth=4, random_state=0)\n",
    "base_clf3.fit(X_train, y_train)  # y_train can be FS_Type or FS_Setting\n",
    "\n",
    "# Evaluate\n",
    "from sklearn.metrics import classification_report\n",
    "\n",
    "y_type_pred = base_clf3.predict(X_test)\n",
    "\n",
    "print(\"Feature_Algo Report (common features):\")\n",
    "print(classification_report(y_test, y_type_pred))\n"
   ]
  },
  {
   "cell_type": "code",
   "execution_count": null,
   "metadata": {},
   "outputs": [],
   "source": [
    "from imblearn.over_sampling import SMOTE, RandomOverSampler\n",
    "from imblearn.pipeline import Pipeline\n",
    "\n",
    "# You can chain oversamplers in a pipeline\n",
    "over_sampler = RandomOverSampler(random_state=42)\n",
    "smote = SMOTE(sampling_strategy='not majority', random_state=42)\n",
    "\n",
    "# Step 1: Random oversample small classes\n",
    "X_ros, y_ros = over_sampler.fit_resample(X_train, y_train)\n",
    "\n",
    "# Step 2: Apply SMOTE to remaining minority classes\n",
    "X_balanced, y_balanced = smote.fit_resample(X_ros, y_ros)\n",
    "\n",
    "from sklearn.ensemble import RandomForestClassifier\n",
    "clf4 = RandomForestClassifier(class_weight='balanced', random_state=42)\n",
    "clf4.fit(X_balanced, y_balanced)\n",
    "\n",
    "y_type_pred = clf4.predict(X_test)\n",
    "\n",
    "print(\"Feature_Algo Report (common features):\")\n",
    "print(classification_report(y_test, y_type_pred))\n"
   ]
  },
  {
   "cell_type": "code",
   "execution_count": null,
   "metadata": {},
   "outputs": [],
   "source": [
    "X_balanced.shape"
   ]
  },
  {
   "cell_type": "code",
   "execution_count": null,
   "metadata": {},
   "outputs": [],
   "source": [
    "import pandas as pd\n",
    "\n",
    "fs_mapping = {\n",
    "    'MI': ('Uni', 'Information'),\n",
    "    'GR': ('Uni', 'Information'),\n",
    "    'fcbf': ('Multi', 'Information'),\n",
    "    'chisquare': ('Uni', 'Dependency'),\n",
    "    'mRMR': ('Multi', 'Dependency'),\n",
    "    'cfs': ('Multi', 'Dependency'),\n",
    "    'relief': ('Uni', 'Distance'),\n",
    "    'relieff': ('Uni', 'Distance'),\n",
    "    'multisurf': ('Multi', 'Distance')\n",
    "}\n",
    "\n",
    "def get_setting(algo):\n",
    "    return fs_mapping.get(algo, ('Unknown', 'Unknown'))  # default if not found\n",
    "\n",
    "\n",
    "merged_df[['FS_Setting', 'FS_Type']] = merged_df['FeatureAlgo'].apply(lambda x: pd.Series(get_setting(x)))"
   ]
  },
  {
   "cell_type": "code",
   "execution_count": null,
   "metadata": {},
   "outputs": [],
   "source": [
    "from sklearn.multioutput import MultiOutputClassifier\n",
    "from sklearn.ensemble import RandomForestClassifier\n",
    "from sklearn.model_selection import train_test_split\n",
    "\n",
    "# Prepare X and multiple y targets\n",
    "X = merged_df.drop(['File','FS_Setting','FS_Type','FeatureAlgo'], axis=1)\n",
    "X = X.apply(le.fit_transform)\n",
    "\n",
    "y = merged_df['FS_Type'] # Encode both\n",
    "\n",
    "X_train, X_test, y_train, y_test = train_test_split(X, y, random_state=42, train_size=0.8)\n",
    "\n",
    "# Base model\n",
    "base_clf4 = RandomForestClassifier()\n",
    "\n",
    "# Train a simple tree (can be one of your hierarchical models)\n",
    "clf = DecisionTreeClassifier(max_depth=4, random_state=0)\n",
    "base_clf4.fit(X_train, y_train)  # y_train can be FS_Type or FS_Setting\n",
    "\n",
    "# Evaluate\n",
    "from sklearn.metrics import classification_report\n",
    "\n",
    "y_type_pred = base_clf4.predict(X_test)\n",
    "\n",
    "print(\"Feature_Algo Report (common features):\")\n",
    "print(classification_report(y_test, y_type_pred))"
   ]
  },
  {
   "cell_type": "code",
   "execution_count": null,
   "metadata": {},
   "outputs": [],
   "source": [
    "from imblearn.over_sampling import SMOTE, RandomOverSampler\n",
    "from imblearn.pipeline import Pipeline\n",
    "\n",
    "# Prepare X and multiple y targets\n",
    "X = merged_df.drop(['File','FS_Setting','FS_Type','FeatureAlgo'], axis=1)\n",
    "X = X.apply(le.fit_transform)\n",
    "\n",
    "y = merged_df['FeatureAlgo'] # Encode both\n",
    "\n",
    "X_train, X_test, y_train, y_test = train_test_split(X, y, random_state=42, train_size=0.8)\n",
    "\n",
    "# You can chain oversamplers in a pipeline\n",
    "over_sampler1 = RandomOverSampler(random_state=42)\n",
    "smote1 = SMOTE(sampling_strategy='not majority', random_state=42)\n",
    "\n",
    "# Step 1: Random oversample small classes\n",
    "X_ros, y_ros = over_sampler1.fit_resample(X_train, y_train)\n",
    "\n",
    "# Step 2: Apply SMOTE to remaining minority classes\n",
    "X_balanced, y_balanced = smote1.fit_resample(X_ros, y_ros)\n",
    "\n",
    "from sklearn.ensemble import RandomForestClassifier\n",
    "clf5 = clf = DecisionTreeClassifier(max_depth=4, random_state=0)\n",
    "#(class_weight='balanced', random_state=42)\n",
    "clf5.fit(X_balanced, y_balanced)\n",
    "\n",
    "y_type_pred = clf5.predict(X_test)\n",
    "\n",
    "print(\"Feature_Algo Report (common features):\")\n",
    "print(classification_report(y_test, y_type_pred))\n"
   ]
  },
  {
   "cell_type": "code",
   "execution_count": null,
   "metadata": {},
   "outputs": [],
   "source": [
    "from sklearn.tree import DecisionTreeClassifier, _tree\n",
    "import numpy as np\n",
    "import pandas as pd\n",
    "\n",
    "def get_rules_with_support_confidence(tree_model, feature_names, X, y):\n",
    "    tree_ = tree_model.tree_\n",
    "    feature_name = [\n",
    "        feature_names[i] if i != _tree.TREE_UNDEFINED else \"undefined!\"\n",
    "        for i in tree_.feature\n",
    "    ]\n",
    "    \n",
    "    paths = []\n",
    "    rules = []\n",
    "\n",
    "    def recurse(node, path, conds):\n",
    "        if tree_.feature[node] != _tree.TREE_UNDEFINED:\n",
    "            name = feature_name[node]\n",
    "            threshold = tree_.threshold[node]\n",
    "            left_path = path.copy()\n",
    "            left_path.append(f\"({name} <= {threshold:.3f})\")\n",
    "            recurse(tree_.children_left[node], left_path, conds)\n",
    "\n",
    "            right_path = path.copy()\n",
    "            right_path.append(f\"({name} > {threshold:.3f})\")\n",
    "            recurse(tree_.children_right[node], right_path, conds)\n",
    "        else:\n",
    "            path_str = \" and \".join(path)\n",
    "            support = tree_.n_node_samples[node] / tree_.n_node_samples[0]\n",
    "            value = tree_.value[node][0]\n",
    "            predicted_class = np.argmax(value)\n",
    "            confidence = value[predicted_class] / np.sum(value)\n",
    "            rules.append((path_str, predicted_class, support, confidence))\n",
    "\n",
    "    recurse(0, [], rules)\n",
    "\n",
    "    return pd.DataFrame(rules, columns=[\"Rule\", \"Predicted_Class\", \"Support\", \"Confidence\"])"
   ]
  },
  {
   "cell_type": "code",
   "execution_count": null,
   "metadata": {},
   "outputs": [],
   "source": [
    "# Prepare X and multiple y targets\n",
    "X = merged_df.drop(['File','FS_Setting','FS_Type','FeatureAlgo'], axis=1)\n",
    "X = X.apply(le.fit_transform)\n",
    "\n",
    "y = merged_df['FS_Type'] # Encode both\n",
    "\n",
    "# Train a simple tree (can be one of your hierarchical models)\n",
    "clf = DecisionTreeClassifier(max_depth=4, random_state=0)\n",
    "clf.fit(X_train, y_train)  # y_train can be FS_Type or FS_Setting\n",
    "\n",
    "# Get readable rules with metrics\n",
    "rule_df = get_rules_with_support_confidence(clf, feature_names=X_train.columns.tolist(), X=X_train, y=y_train)\n",
    "\n",
    "# Display top rules\n",
    "print(rule_df.sort_values(by='Confidence', ascending=False).head(10))\n"
   ]
  },
  {
   "cell_type": "code",
   "execution_count": null,
   "metadata": {},
   "outputs": [],
   "source": [
    "merged_df['FS_Type']"
   ]
  },
  {
   "cell_type": "code",
   "execution_count": null,
   "metadata": {},
   "outputs": [],
   "source": []
  }
 ],
 "metadata": {
  "kernelspec": {
   "display_name": "Python 3.9.15 64-bit",
   "language": "python",
   "name": "python3"
  },
  "language_info": {
   "codemirror_mode": {
    "name": "ipython",
    "version": 3
   },
   "file_extension": ".py",
   "mimetype": "text/x-python",
   "name": "python",
   "nbconvert_exporter": "python",
   "pygments_lexer": "ipython3",
   "version": "3.9.15"
  },
  "orig_nbformat": 4,
  "vscode": {
   "interpreter": {
    "hash": "36cf16204b8548560b1c020c4e8fb5b57f0e4c58016f52f2d4be01e192833930"
   }
  }
 },
 "nbformat": 4,
 "nbformat_minor": 2
}
